{
 "cells": [
  {
   "cell_type": "code",
   "execution_count": 1,
   "id": "b8f32372",
   "metadata": {},
   "outputs": [],
   "source": [
    "import itertools\n",
    "import warnings\n",
    "import matplotlib.pyplot as plt\n",
    "import numpy as np\n",
    "import pandas as pd\n",
    "import statsmodels.api as sm\n",
    "from sklearn.metrics import mean_absolute_error\n",
    "from statsmodels.tsa.arima.model import ARIMA\n",
    "# from statsmodels.tsa.holtwinters import ExponentialSmoothing\n",
    "# from statsmodels.tsa.holtwinters import SimpleExpSmoothing\n",
    "from statsmodels.tsa.seasonal import seasonal_decompose\n",
    "import statsmodels.tsa.api as smt\n",
    "from statsmodels.tsa.statespace.sarimax import SARIMAX\n",
    "warnings.filterwarnings('ignore')"
   ]
  },
  {
   "cell_type": "code",
   "execution_count": 2,
   "id": "e10b7686",
   "metadata": {},
   "outputs": [],
   "source": [
    "data = sm.datasets.co2.load_pandas()"
   ]
  },
  {
   "cell_type": "code",
   "execution_count": 3,
   "id": "39798ce7",
   "metadata": {},
   "outputs": [],
   "source": [
    "df = data.data"
   ]
  },
  {
   "cell_type": "code",
   "execution_count": 4,
   "id": "a9ceebf0",
   "metadata": {},
   "outputs": [
    {
     "data": {
      "text/html": [
       "<div>\n",
       "<style scoped>\n",
       "    .dataframe tbody tr th:only-of-type {\n",
       "        vertical-align: middle;\n",
       "    }\n",
       "\n",
       "    .dataframe tbody tr th {\n",
       "        vertical-align: top;\n",
       "    }\n",
       "\n",
       "    .dataframe thead th {\n",
       "        text-align: right;\n",
       "    }\n",
       "</style>\n",
       "<table border=\"1\" class=\"dataframe\">\n",
       "  <thead>\n",
       "    <tr style=\"text-align: right;\">\n",
       "      <th></th>\n",
       "      <th>co2</th>\n",
       "    </tr>\n",
       "  </thead>\n",
       "  <tbody>\n",
       "    <tr>\n",
       "      <th>1958-03-29</th>\n",
       "      <td>316.1</td>\n",
       "    </tr>\n",
       "    <tr>\n",
       "      <th>1958-04-05</th>\n",
       "      <td>317.3</td>\n",
       "    </tr>\n",
       "    <tr>\n",
       "      <th>1958-04-12</th>\n",
       "      <td>317.6</td>\n",
       "    </tr>\n",
       "    <tr>\n",
       "      <th>1958-04-19</th>\n",
       "      <td>317.5</td>\n",
       "    </tr>\n",
       "    <tr>\n",
       "      <th>1958-04-26</th>\n",
       "      <td>316.4</td>\n",
       "    </tr>\n",
       "  </tbody>\n",
       "</table>\n",
       "</div>"
      ],
      "text/plain": [
       "              co2\n",
       "1958-03-29  316.1\n",
       "1958-04-05  317.3\n",
       "1958-04-12  317.6\n",
       "1958-04-19  317.5\n",
       "1958-04-26  316.4"
      ]
     },
     "execution_count": 4,
     "metadata": {},
     "output_type": "execute_result"
    }
   ],
   "source": [
    "df.head()"
   ]
  },
  {
   "cell_type": "code",
   "execution_count": 5,
   "id": "533215f8",
   "metadata": {},
   "outputs": [],
   "source": [
    "df = df['co2'].resample('MS').mean()"
   ]
  },
  {
   "cell_type": "code",
   "execution_count": 6,
   "id": "d5f91d4a",
   "metadata": {},
   "outputs": [
    {
     "data": {
      "text/plain": [
       "1958-03-01    316.100000\n",
       "1958-04-01    317.200000\n",
       "1958-05-01    317.433333\n",
       "1958-06-01           NaN\n",
       "1958-07-01    315.625000\n",
       "Freq: MS, Name: co2, dtype: float64"
      ]
     },
     "execution_count": 6,
     "metadata": {},
     "output_type": "execute_result"
    }
   ],
   "source": [
    "df.head()"
   ]
  },
  {
   "cell_type": "code",
   "execution_count": 7,
   "id": "f03c95a5",
   "metadata": {},
   "outputs": [
    {
     "data": {
      "text/plain": [
       "5"
      ]
     },
     "execution_count": 7,
     "metadata": {},
     "output_type": "execute_result"
    }
   ],
   "source": [
    "df.isnull().sum()"
   ]
  },
  {
   "cell_type": "code",
   "execution_count": 8,
   "id": "f9d305d6",
   "metadata": {},
   "outputs": [],
   "source": [
    "df = df.fillna(df.bfill())"
   ]
  },
  {
   "cell_type": "code",
   "execution_count": 9,
   "id": "5eb204b7",
   "metadata": {},
   "outputs": [
    {
     "data": {
      "text/plain": [
       "0"
      ]
     },
     "execution_count": 9,
     "metadata": {},
     "output_type": "execute_result"
    }
   ],
   "source": [
    "df.isnull().sum()"
   ]
  },
  {
   "cell_type": "code",
   "execution_count": 10,
   "id": "d4dd44bf",
   "metadata": {},
   "outputs": [],
   "source": [
    "train = df[:'1997-12-01']\n",
    "test = df['1998-01-01':]"
   ]
  },
  {
   "cell_type": "code",
   "execution_count": 11,
   "id": "e2922891",
   "metadata": {},
   "outputs": [],
   "source": [
    "# ARIMA(p, d, q): (Autoregressive Integrated Moving Average)"
   ]
  },
  {
   "cell_type": "code",
   "execution_count": 12,
   "id": "024f567b",
   "metadata": {},
   "outputs": [],
   "source": [
    "arima_model = ARIMA(train, order=(1, 1, 1)).fit()"
   ]
  },
  {
   "cell_type": "code",
   "execution_count": 13,
   "id": "171187a0",
   "metadata": {},
   "outputs": [
    {
     "data": {
      "text/html": [
       "<table class=\"simpletable\">\n",
       "<caption>SARIMAX Results</caption>\n",
       "<tr>\n",
       "  <th>Dep. Variable:</th>          <td>co2</td>       <th>  No. Observations:  </th>    <td>478</td>  \n",
       "</tr>\n",
       "<tr>\n",
       "  <th>Model:</th>            <td>ARIMA(1, 1, 1)</td>  <th>  Log Likelihood     </th> <td>-575.768</td>\n",
       "</tr>\n",
       "<tr>\n",
       "  <th>Date:</th>            <td>Thu, 20 Jul 2023</td> <th>  AIC                </th> <td>1157.537</td>\n",
       "</tr>\n",
       "<tr>\n",
       "  <th>Time:</th>                <td>23:55:06</td>     <th>  BIC                </th> <td>1170.039</td>\n",
       "</tr>\n",
       "<tr>\n",
       "  <th>Sample:</th>             <td>03-01-1958</td>    <th>  HQIC               </th> <td>1162.452</td>\n",
       "</tr>\n",
       "<tr>\n",
       "  <th></th>                   <td>- 12-01-1997</td>   <th>                     </th>     <td> </td>   \n",
       "</tr>\n",
       "<tr>\n",
       "  <th>Covariance Type:</th>        <td>opg</td>       <th>                     </th>     <td> </td>   \n",
       "</tr>\n",
       "</table>\n",
       "<table class=\"simpletable\">\n",
       "<tr>\n",
       "     <td></td>       <th>coef</th>     <th>std err</th>      <th>z</th>      <th>P>|z|</th>  <th>[0.025</th>    <th>0.975]</th>  \n",
       "</tr>\n",
       "<tr>\n",
       "  <th>ar.L1</th>  <td>    0.5669</td> <td>    0.054</td> <td>   10.586</td> <td> 0.000</td> <td>    0.462</td> <td>    0.672</td>\n",
       "</tr>\n",
       "<tr>\n",
       "  <th>ma.L1</th>  <td>    0.3284</td> <td>    0.062</td> <td>    5.306</td> <td> 0.000</td> <td>    0.207</td> <td>    0.450</td>\n",
       "</tr>\n",
       "<tr>\n",
       "  <th>sigma2</th> <td>    0.6534</td> <td>    0.050</td> <td>   12.965</td> <td> 0.000</td> <td>    0.555</td> <td>    0.752</td>\n",
       "</tr>\n",
       "</table>\n",
       "<table class=\"simpletable\">\n",
       "<tr>\n",
       "  <th>Ljung-Box (L1) (Q):</th>     <td>2.26</td> <th>  Jarque-Bera (JB):  </th> <td>3.96</td>\n",
       "</tr>\n",
       "<tr>\n",
       "  <th>Prob(Q):</th>                <td>0.13</td> <th>  Prob(JB):          </th> <td>0.14</td>\n",
       "</tr>\n",
       "<tr>\n",
       "  <th>Heteroskedasticity (H):</th> <td>0.98</td> <th>  Skew:              </th> <td>0.09</td>\n",
       "</tr>\n",
       "<tr>\n",
       "  <th>Prob(H) (two-sided):</th>    <td>0.89</td> <th>  Kurtosis:          </th> <td>2.59</td>\n",
       "</tr>\n",
       "</table><br/><br/>Warnings:<br/>[1] Covariance matrix calculated using the outer product of gradients (complex-step)."
      ],
      "text/plain": [
       "<class 'statsmodels.iolib.summary.Summary'>\n",
       "\"\"\"\n",
       "                               SARIMAX Results                                \n",
       "==============================================================================\n",
       "Dep. Variable:                    co2   No. Observations:                  478\n",
       "Model:                 ARIMA(1, 1, 1)   Log Likelihood                -575.768\n",
       "Date:                Thu, 20 Jul 2023   AIC                           1157.537\n",
       "Time:                        23:55:06   BIC                           1170.039\n",
       "Sample:                    03-01-1958   HQIC                          1162.452\n",
       "                         - 12-01-1997                                         \n",
       "Covariance Type:                  opg                                         \n",
       "==============================================================================\n",
       "                 coef    std err          z      P>|z|      [0.025      0.975]\n",
       "------------------------------------------------------------------------------\n",
       "ar.L1          0.5669      0.054     10.586      0.000       0.462       0.672\n",
       "ma.L1          0.3284      0.062      5.306      0.000       0.207       0.450\n",
       "sigma2         0.6534      0.050     12.965      0.000       0.555       0.752\n",
       "===================================================================================\n",
       "Ljung-Box (L1) (Q):                   2.26   Jarque-Bera (JB):                 3.96\n",
       "Prob(Q):                              0.13   Prob(JB):                         0.14\n",
       "Heteroskedasticity (H):               0.98   Skew:                             0.09\n",
       "Prob(H) (two-sided):                  0.89   Kurtosis:                         2.59\n",
       "===================================================================================\n",
       "\n",
       "Warnings:\n",
       "[1] Covariance matrix calculated using the outer product of gradients (complex-step).\n",
       "\"\"\""
      ]
     },
     "execution_count": 13,
     "metadata": {},
     "output_type": "execute_result"
    }
   ],
   "source": [
    "arima_model.summary()"
   ]
  },
  {
   "cell_type": "code",
   "execution_count": 14,
   "id": "e299c824",
   "metadata": {},
   "outputs": [],
   "source": [
    "y_pred = arima_model.forecast(48)"
   ]
  },
  {
   "cell_type": "code",
   "execution_count": 15,
   "id": "5adace92",
   "metadata": {},
   "outputs": [
    {
     "data": {
      "text/plain": [
       "1998-01-01    365.558639\n",
       "1998-02-01    366.300479\n",
       "1998-03-01    366.721012\n",
       "1998-04-01    366.959404\n",
       "1998-05-01    367.094543\n",
       "1998-06-01    367.171151\n",
       "1998-07-01    367.214578\n",
       "1998-08-01    367.239196\n",
       "1998-09-01    367.253151\n",
       "1998-10-01    367.261062\n",
       "1998-11-01    367.265547\n",
       "1998-12-01    367.268089\n",
       "1999-01-01    367.269530\n",
       "1999-02-01    367.270347\n",
       "1999-03-01    367.270810\n",
       "1999-04-01    367.271073\n",
       "1999-05-01    367.271222\n",
       "1999-06-01    367.271306\n",
       "1999-07-01    367.271354\n",
       "1999-08-01    367.271381\n",
       "1999-09-01    367.271396\n",
       "1999-10-01    367.271405\n",
       "1999-11-01    367.271410\n",
       "1999-12-01    367.271413\n",
       "2000-01-01    367.271414\n",
       "2000-02-01    367.271415\n",
       "2000-03-01    367.271416\n",
       "2000-04-01    367.271416\n",
       "2000-05-01    367.271416\n",
       "2000-06-01    367.271416\n",
       "2000-07-01    367.271416\n",
       "2000-08-01    367.271416\n",
       "2000-09-01    367.271416\n",
       "2000-10-01    367.271416\n",
       "2000-11-01    367.271416\n",
       "2000-12-01    367.271416\n",
       "2001-01-01    367.271417\n",
       "2001-02-01    367.271417\n",
       "2001-03-01    367.271417\n",
       "2001-04-01    367.271417\n",
       "2001-05-01    367.271417\n",
       "2001-06-01    367.271417\n",
       "2001-07-01    367.271417\n",
       "2001-08-01    367.271417\n",
       "2001-09-01    367.271417\n",
       "2001-10-01    367.271417\n",
       "2001-11-01    367.271417\n",
       "2001-12-01    367.271417\n",
       "Freq: MS, dtype: float64"
      ]
     },
     "execution_count": 15,
     "metadata": {},
     "output_type": "execute_result"
    }
   ],
   "source": [
    "y_pred = y_pred.values\n",
    "y_pred = pd.Series(y_pred, index=test.index)\n",
    "y_pred"
   ]
  },
  {
   "cell_type": "code",
   "execution_count": 16,
   "id": "b84c3d16",
   "metadata": {},
   "outputs": [
    {
     "data": {
      "image/png": "[encoded data removed]",
      "text/plain": [
       "<Figure size 600x400 with 1 Axes>"
      ]
     },
     "metadata": {},
     "output_type": "display_data"
    }
   ],
   "source": [
    "def plot_co2(train, test, y_pred, title):\n",
    "    mae = mean_absolute_error(test, y_pred)\n",
    "    train[\"1985\":].plot(legend=True, label=\"TRAIN\", title=f\"{title}, MAE: {round(mae,2)}\")\n",
    "    test.plot(legend=True, label=\"TEST\", figsize=(6, 4))\n",
    "    y_pred.plot(legend=True, label=\"PREDICTION\")\n",
    "    plt.show(block=True)\n",
    "    \n",
    "plot_co2(train, test, y_pred, \"ARIMA\")"
   ]
  },
  {
   "cell_type": "code",
   "execution_count": 17,
   "id": "1ba7c1ab",
   "metadata": {},
   "outputs": [],
   "source": [
    "# Hyperparameter Optimization"
   ]
  },
  {
   "cell_type": "code",
   "execution_count": 18,
   "id": "ea8e55cd",
   "metadata": {},
   "outputs": [],
   "source": [
    "# AIC & BIC"
   ]
  },
  {
   "cell_type": "code",
   "execution_count": 19,
   "id": "e98f09fa",
   "metadata": {},
   "outputs": [],
   "source": [
    "p = d = q = range(0, 4)\n",
    "pdq = list(itertools.product(p, d, q))"
   ]
  },
  {
   "cell_type": "code",
   "execution_count": 20,
   "id": "1d7255c7",
   "metadata": {},
   "outputs": [],
   "source": [
    "def arima_optimizer_aic(train, orders):\n",
    "    best_aic, best_params = float(\"inf\"), None\n",
    "    for order in orders:\n",
    "        try:\n",
    "            arima_model_result = ARIMA(train, order=order).fit()\n",
    "            aic = arima_model_result.aic\n",
    "            if aic < best_aic:\n",
    "                best_aic, best_params = aic, order\n",
    "            print('ARIMA%s AIC=%.2f' % (order, aic))\n",
    "        except:\n",
    "            continue\n",
    "    print('Best ARIMA%s AIC=%.2f' % (best_params, best_aic))\n",
    "    return best_params"
   ]
  },
  {
   "cell_type": "code",
   "execution_count": 21,
   "id": "f5850ac5",
   "metadata": {},
   "outputs": [
    {
     "name": "stdout",
     "output_type": "stream",
     "text": [
      "ARIMA(0, 0, 0) AIC=3954.01\n",
      "ARIMA(0, 0, 1) AIC=3312.73\n",
      "ARIMA(0, 0, 2) AIC=2771.31\n",
      "ARIMA(0, 0, 3) AIC=2328.74\n",
      "ARIMA(0, 1, 0) AIC=1523.91\n",
      "ARIMA(0, 1, 1) AIC=1254.79\n",
      "ARIMA(0, 1, 2) AIC=1137.97\n",
      "ARIMA(0, 1, 3) AIC=1094.51\n",
      "ARIMA(0, 2, 0) AIC=1279.81\n",
      "ARIMA(0, 2, 1) AIC=1257.89\n",
      "ARIMA(0, 2, 2) AIC=1247.74\n",
      "ARIMA(0, 2, 3) AIC=1141.50\n",
      "ARIMA(0, 3, 0) AIC=1482.91\n",
      "ARIMA(0, 3, 1) AIC=1286.29\n",
      "ARIMA(0, 3, 2) AIC=1264.05\n",
      "ARIMA(0, 3, 3) AIC=1253.48\n",
      "ARIMA(1, 0, 0) AIC=1536.61\n",
      "ARIMA(1, 0, 1) AIC=1267.22\n",
      "ARIMA(1, 0, 2) AIC=1149.98\n",
      "ARIMA(1, 0, 3) AIC=1105.72\n",
      "ARIMA(1, 1, 0) AIC=1207.78\n",
      "ARIMA(1, 1, 1) AIC=1157.54\n",
      "ARIMA(1, 1, 2) AIC=1113.98\n",
      "ARIMA(1, 1, 3) AIC=1095.90\n",
      "ARIMA(1, 2, 0) AIC=1256.05\n",
      "ARIMA(1, 2, 1) AIC=1257.80\n",
      "ARIMA(1, 2, 2) AIC=1161.11\n",
      "ARIMA(1, 2, 3) AIC=1117.55\n",
      "ARIMA(1, 3, 0) AIC=1418.84\n",
      "ARIMA(1, 3, 1) AIC=1262.06\n",
      "ARIMA(1, 3, 2) AIC=1263.84\n",
      "ARIMA(1, 3, 3) AIC=1253.50\n",
      "ARIMA(2, 0, 0) AIC=1217.86\n",
      "ARIMA(2, 0, 1) AIC=1168.38\n",
      "ARIMA(2, 0, 2) AIC=1124.96\n",
      "ARIMA(2, 0, 3) AIC=1106.92\n",
      "ARIMA(2, 1, 0) AIC=1103.53\n",
      "ARIMA(2, 1, 1) AIC=979.80\n",
      "ARIMA(2, 1, 2) AIC=979.50\n",
      "ARIMA(2, 1, 3) AIC=842.97\n",
      "ARIMA(2, 2, 0) AIC=1257.14\n",
      "ARIMA(2, 2, 1) AIC=1107.02\n",
      "ARIMA(2, 2, 2) AIC=1119.91\n",
      "ARIMA(2, 2, 3) AIC=1069.79\n",
      "ARIMA(2, 3, 0) AIC=1418.03\n",
      "ARIMA(2, 3, 1) AIC=1263.24\n",
      "ARIMA(2, 3, 2) AIC=1263.81\n",
      "ARIMA(2, 3, 3) AIC=1126.80\n",
      "ARIMA(3, 0, 0) AIC=1115.62\n",
      "ARIMA(3, 0, 1) AIC=992.97\n",
      "ARIMA(3, 0, 2) AIC=992.68\n",
      "ARIMA(3, 0, 3) AIC=1079.15\n",
      "ARIMA(3, 1, 0) AIC=1050.25\n",
      "ARIMA(3, 1, 1) AIC=979.82\n",
      "ARIMA(3, 1, 2) AIC=980.66\n",
      "ARIMA(3, 1, 3) AIC=911.01\n",
      "ARIMA(3, 2, 0) AIC=1209.68\n",
      "ARIMA(3, 2, 1) AIC=1052.76\n",
      "ARIMA(3, 2, 2) AIC=913.07\n",
      "ARIMA(3, 2, 3) AIC=918.62\n",
      "ARIMA(3, 3, 0) AIC=1390.88\n",
      "ARIMA(3, 3, 1) AIC=1216.43\n",
      "ARIMA(3, 3, 2) AIC=1066.11\n",
      "ARIMA(3, 3, 3) AIC=1126.52\n",
      "Best ARIMA(2, 1, 3) AIC=842.97\n"
     ]
    }
   ],
   "source": [
    "best_params_aic = arima_optimizer_aic(train, pdq)"
   ]
  },
  {
   "cell_type": "code",
   "execution_count": 22,
   "id": "b9cd89c1",
   "metadata": {},
   "outputs": [
    {
     "data": {
      "text/plain": [
       "(2, 1, 3)"
      ]
     },
     "execution_count": 22,
     "metadata": {},
     "output_type": "execute_result"
    }
   ],
   "source": [
    "best_params_aic"
   ]
  },
  {
   "cell_type": "code",
   "execution_count": 23,
   "id": "58851958",
   "metadata": {},
   "outputs": [],
   "source": [
    "arima_model = sm.tsa.arima.ARIMA(train, order=best_params_aic).fit()"
   ]
  },
  {
   "cell_type": "code",
   "execution_count": 24,
   "id": "d38a3ab8",
   "metadata": {},
   "outputs": [],
   "source": [
    "y_pred = arima_model.forecast(48)\n",
    "y_pred = y_pred.values\n",
    "y_pred = pd.Series(y_pred, index=test.index)"
   ]
  },
  {
   "cell_type": "code",
   "execution_count": 25,
   "id": "76af6b0f",
   "metadata": {},
   "outputs": [
    {
     "data": {
      "image/png": "[encoded data removed]",
      "text/plain": [
       "<Figure size 600x400 with 1 Axes>"
      ]
     },
     "metadata": {},
     "output_type": "display_data"
    }
   ],
   "source": [
    "plot_co2(train, test, y_pred, \"ARIMA\")"
   ]
  },
  {
   "cell_type": "code",
   "execution_count": null,
   "id": "406e052a",
   "metadata": {},
   "outputs": [],
   "source": []
  }
 ],
 "metadata": {
  "kernelspec": {
   "display_name": "Python 3 (ipykernel)",
   "language": "python",
   "name": "python3"
  },
  "language_info": {
   "codemirror_mode": {
    "name": "ipython",
    "version": 3
   },
   "file_extension": ".py",
   "mimetype": "text/x-python",
   "name": "python",
   "nbconvert_exporter": "python",
   "pygments_lexer": "ipython3",
   "version": "3.9.16"
  }
 },
 "nbformat": 4,
 "nbformat_minor": 5
}
